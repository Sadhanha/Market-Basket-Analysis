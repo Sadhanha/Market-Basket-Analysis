{
  "nbformat": 4,
  "nbformat_minor": 0,
  "metadata": {
    "colab": {
      "provenance": []
    },
    "kernelspec": {
      "name": "python3",
      "display_name": "Python 3"
    },
    "language_info": {
      "name": "python"
    }
  },
  "cells": [
    {
      "cell_type": "markdown",
      "source": [
        "**MARKET BASKET ANALYSIS**\n",
        "\n",
        "*By Sadhanha Anand*\n"
      ],
      "metadata": {
        "id": "bX3aqy_qsJr8"
      }
    },
    {
      "cell_type": "code",
      "execution_count": null,
      "metadata": {
        "colab": {
          "base_uri": "https://localhost:8080/"
        },
        "id": "UWZe6GZ7oYmu",
        "outputId": "8be15cb8-b33e-4846-cb7b-9419c38e7815"
      },
      "outputs": [
        {
          "output_type": "stream",
          "name": "stdout",
          "text": [
            "Collecting apyori\n",
            "  Downloading apyori-1.1.2.tar.gz (8.6 kB)\n",
            "  Preparing metadata (setup.py) ... \u001b[?25l\u001b[?25hdone\n",
            "Building wheels for collected packages: apyori\n",
            "  Building wheel for apyori (setup.py) ... \u001b[?25l\u001b[?25hdone\n",
            "  Created wheel for apyori: filename=apyori-1.1.2-py3-none-any.whl size=5955 sha256=98b8975d35583341ded2b40428fda85b02ac8da0b3c3e820802daeda9d44a919\n",
            "  Stored in directory: /root/.cache/pip/wheels/c4/1a/79/20f55c470a50bb3702a8cb7c94d8ada15573538c7f4baebe2d\n",
            "Successfully built apyori\n",
            "Installing collected packages: apyori\n",
            "Successfully installed apyori-1.1.2\n"
          ]
        }
      ],
      "source": [
        "# Install the necessary library\n",
        "!pip install apyori\n",
        "\n",
        "# Import necessary libraries\n",
        "import pandas as pd\n",
        "from apyori import apriori"
      ]
    },
    {
      "cell_type": "code",
      "source": [
        "# Function to safely load CSV files\n",
        "def load_csv(filename, expected_columns):\n",
        "    try:\n",
        "        data = pd.read_csv(filename, on_bad_lines='skip')\n",
        "        print(f\"Successfully loaded {filename}.\")\n",
        "        if data.shape[1] != expected_columns:\n",
        "            print(f\"Warning: Some columns may be missing or extra in {filename}. Expected {expected_columns}, found {data.shape[1]} columns.\")\n",
        "    except Exception as e:\n",
        "        print(f\"Failed to load {filename} due to an error: {e}\")\n",
        "        return None\n",
        "    return data"
      ],
      "metadata": {
        "id": "5zokwJPxobcz"
      },
      "execution_count": null,
      "outputs": []
    },
    {
      "cell_type": "code",
      "source": [
        "# Load the datasets with expected column counts for verification\n",
        "products = load_csv('products.csv', 4)  # product_id, product_name, aisle_id, department_id\n",
        "order_products_train = load_csv('order_products__train.csv', 4)  # order_id, product_id, add_to_cart_order, reordered\n",
        "orders = load_csv('orders.csv', 7)  # order_id, user_id, eval_set, order_number, order_dow, order_hour_of_day, days_since_prior_order"
      ],
      "metadata": {
        "colab": {
          "base_uri": "https://localhost:8080/"
        },
        "id": "Fnm6on_HpO9e",
        "outputId": "04571d07-21f8-4c70-a04e-eb0df0336814"
      },
      "execution_count": null,
      "outputs": [
        {
          "output_type": "stream",
          "name": "stdout",
          "text": [
            "Successfully loaded products.csv.\n",
            "Successfully loaded order_products__train.csv.\n",
            "Successfully loaded orders.csv.\n"
          ]
        }
      ]
    },
    {
      "cell_type": "code",
      "source": [
        "# Check if any file failed to load\n",
        "if products is None or order_products_train is None or orders is None:\n",
        "    raise SystemExit(\"One or more files failed to load, please check the files and try again.\")\n",
        "\n",
        "# Merge order_products_train with products to link product names with each order\n",
        "merged_data = pd.merge(order_products_train[['order_id', 'product_id']], products[['product_id', 'product_name']], on='product_id')"
      ],
      "metadata": {
        "id": "XWiiDGbUphQR"
      },
      "execution_count": null,
      "outputs": []
    },
    {
      "cell_type": "code",
      "source": [
        "# Group the data by order_id and collect all product names associated with each order\n",
        "transactions = merged_data.groupby('order_id')['product_name'].apply(list).tolist()\n",
        "\n",
        "# Specify the minimum support and confidence values\n",
        "min_support_value = 0.01\n",
        "min_confidence_value = 0.1\n",
        "\n",
        "# Run the Apriori algorithm to find frequent itemsets and association rules\n",
        "rules = list(apriori(transactions, min_support=min_support_value, min_confidence=min_confidence_value, min_lift=1.0))\n",
        "\n",
        "# Print out the discovered rules\n",
        "print(\"Association Rules:\")\n",
        "for rule in rules:\n",
        "    base_items = ', '.join(rule.items)\n",
        "    support = rule.support\n",
        "    for stats in rule.ordered_statistics:\n",
        "        before = ', '.join(stats.items_base)\n",
        "        after = ', '.join(stats.items_add)\n",
        "        confidence = stats.confidence\n",
        "        lift = stats.lift\n",
        "        print(f\"If a customer buys [{before}], they might also buy [{after}]\")\n",
        "        print(f\"Support: {support:.4f}, Confidence: {confidence:.4f}\")"
      ],
      "metadata": {
        "colab": {
          "base_uri": "https://localhost:8080/"
        },
        "id": "y72DJU4kpm_Y",
        "outputId": "66e05538-31cc-42f0-e1de-97e10c3b7e4e"
      },
      "execution_count": null,
      "outputs": [
        {
          "output_type": "stream",
          "name": "stdout",
          "text": [
            "Association Rules:\n",
            "If a customer buys [], they might also buy [Bag of Organic Bananas]\n",
            "Support: 0.1172, Confidence: 0.1172\n",
            "If a customer buys [], they might also buy [Banana]\n",
            "Support: 0.1409, Confidence: 0.1409\n",
            "If a customer buys [Bag of Organic Bananas], they might also buy [Organic Baby Spinach]\n",
            "Support: 0.0164, Confidence: 0.1402\n",
            "If a customer buys [Organic Baby Spinach], they might also buy [Bag of Organic Bananas]\n",
            "Support: 0.0164, Confidence: 0.2213\n",
            "If a customer buys [Bag of Organic Bananas], they might also buy [Organic Hass Avocado]\n",
            "Support: 0.0182, Confidence: 0.1556\n",
            "If a customer buys [Organic Hass Avocado], they might also buy [Bag of Organic Bananas]\n",
            "Support: 0.0182, Confidence: 0.3267\n",
            "If a customer buys [Bag of Organic Bananas], they might also buy [Organic Raspberries]\n",
            "Support: 0.0138, Confidence: 0.1182\n",
            "If a customer buys [Organic Raspberries], they might also buy [Bag of Organic Bananas]\n",
            "Support: 0.0138, Confidence: 0.3297\n",
            "If a customer buys [Bag of Organic Bananas], they might also buy [Organic Strawberries]\n",
            "Support: 0.0234, Confidence: 0.1995\n",
            "If a customer buys [Organic Strawberries], they might also buy [Bag of Organic Bananas]\n",
            "Support: 0.0234, Confidence: 0.2870\n",
            "If a customer buys [Banana], they might also buy [Large Lemon]\n",
            "Support: 0.0158, Confidence: 0.1119\n",
            "If a customer buys [Large Lemon], they might also buy [Banana]\n",
            "Support: 0.0158, Confidence: 0.2564\n",
            "If a customer buys [Limes], they might also buy [Banana]\n",
            "Support: 0.0102, Confidence: 0.2214\n",
            "If a customer buys [Banana], they might also buy [Organic Avocado]\n",
            "Support: 0.0170, Confidence: 0.1208\n",
            "If a customer buys [Organic Avocado], they might also buy [Banana]\n",
            "Support: 0.0170, Confidence: 0.2980\n",
            "If a customer buys [Banana], they might also buy [Organic Baby Spinach]\n",
            "Support: 0.0151, Confidence: 0.1070\n",
            "If a customer buys [Organic Baby Spinach], they might also buy [Banana]\n",
            "Support: 0.0151, Confidence: 0.2031\n",
            "If a customer buys [Banana], they might also buy [Organic Strawberries]\n",
            "Support: 0.0157, Confidence: 0.1113\n",
            "If a customer buys [Organic Strawberries], they might also buy [Banana]\n",
            "Support: 0.0157, Confidence: 0.1925\n",
            "If a customer buys [Banana], they might also buy [Strawberries]\n",
            "Support: 0.0145, Confidence: 0.1032\n",
            "If a customer buys [Strawberries], they might also buy [Banana]\n",
            "Support: 0.0145, Confidence: 0.2902\n",
            "If a customer buys [Large Lemon], they might also buy [Limes]\n",
            "Support: 0.0124, Confidence: 0.2009\n",
            "If a customer buys [Limes], they might also buy [Large Lemon]\n",
            "Support: 0.0124, Confidence: 0.2693\n",
            "If a customer buys [Large Lemon], they might also buy [Organic Avocado]\n",
            "Support: 0.0105, Confidence: 0.1702\n",
            "If a customer buys [Organic Avocado], they might also buy [Large Lemon]\n",
            "Support: 0.0105, Confidence: 0.1833\n",
            "If a customer buys [Organic Avocado], they might also buy [Organic Baby Spinach]\n",
            "Support: 0.0106, Confidence: 0.1849\n",
            "If a customer buys [Organic Baby Spinach], they might also buy [Organic Avocado]\n",
            "Support: 0.0106, Confidence: 0.1423\n",
            "If a customer buys [Organic Baby Spinach], they might also buy [Organic Strawberries]\n",
            "Support: 0.0118, Confidence: 0.1584\n",
            "If a customer buys [Organic Strawberries], they might also buy [Organic Baby Spinach]\n",
            "Support: 0.0118, Confidence: 0.1444\n",
            "If a customer buys [Organic Hass Avocado], they might also buy [Organic Strawberries]\n",
            "Support: 0.0118, Confidence: 0.2119\n",
            "If a customer buys [Organic Strawberries], they might also buy [Organic Hass Avocado]\n",
            "Support: 0.0118, Confidence: 0.1452\n",
            "If a customer buys [Organic Raspberries], they might also buy [Organic Strawberries]\n",
            "Support: 0.0122, Confidence: 0.2911\n",
            "If a customer buys [Organic Strawberries], they might also buy [Organic Raspberries]\n",
            "Support: 0.0122, Confidence: 0.1501\n"
          ]
        }
      ]
    },
    {
      "cell_type": "markdown",
      "source": [
        "**Recommendations:**\n",
        "\n",
        "1. **Seasonal Promotions and Themed Campaigns:**\n",
        "Create seasonal promotions and themed marketing campaigns based on frequently co-purchased items that align with specific seasons or events. For instance, if data shows that \"Pumpkin Spice Latte\" and \"Cinnamon Rolls\" are popular in the fall, launch a fall-themed campaign promoting these items together. Similarly, for summer, bundle \"Organic Lemonade\" and \"Grilled Chicken Breasts\" for a barbecue promotion. These themed campaigns can attract more customers by tapping into the seasonal appeal and increasing the visibility of related products.\n",
        "\n",
        "\n",
        "2. **Loyalty Program Enhancements:**\n",
        "Enhance your loyalty program by integrating the insights from association rules. Offer personalized rewards based on frequent purchase patterns. For example, if a customer regularly buys \"Organic Baby Spinach\" and \"Greek Yogurt,\" provide loyalty points or discounts on these items after a certain number of purchases. This approach not only incentivizes repeat purchases but also strengthens customer loyalty by offering tangible rewards that align with their shopping habits."
      ],
      "metadata": {
        "id": "iCErTb7ksC76"
      }
    }
  ]
}